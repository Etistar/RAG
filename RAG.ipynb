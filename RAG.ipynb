{
 "cells": [
  {
   "cell_type": "markdown",
   "id": "00e8cc28",
   "metadata": {},
   "source": [
    "Deux limitations des LLMs (modèles de langage de grande taille) :\n",
    "Fenêtre de contexte : la quantité d'informations que l'on peut fournir en entrée est limitée.\n",
    "\n",
    "Apprentissage spécifique : ils sont performants principalement sur les données sur lesquelles ils ont été entraînés.\n",
    "\n",
    "== Pour contourner ces limitations, nous allons utiliser le RAG (Retrieval-Augmented Generation).\n",
    "\n",
    "Two limitations of LLMs (Large Language Models):\n",
    "Context window: the amount of input they can process at once is limited.\n",
    "\n",
    "Training scope: they perform best on data they were specifically trained on.\n",
    "\n",
    "== To overcome these limitations, we will use RAG (Retrieval-Augmented Generation)."
   ]
  },
  {
   "cell_type": "markdown",
   "id": "299b03ca",
   "metadata": {},
   "source": [
    "A RAG system has three stages: Indexing, Retrieval, and Generation. It retrieves relevant documents at query time and uses them with the user’s prompt to generate accurate, customized answers—even with unseen data.\n",
    "In this notebook you will use the Gemini API to create a vector database, retrieve answers to questions from the database and generate a final answer. You will use Chroma, an open-source vector database. With Chroma, you can store embeddings alongside metadata, embed documents and queries, and search your documents.\n",
    "\n",
    "Un système RAG comprend trois étapes : indexation, récupération et génération. Il retrouve les documents pertinents à la demande et les utilise avec la requête pour générer des réponses précises, même avec des données jamais vues auparavant."
   ]
  },
  {
   "cell_type": "code",
   "execution_count": 32,
   "id": "e708bdb2",
   "metadata": {},
   "outputs": [
    {
     "name": "stderr",
     "output_type": "stream",
     "text": [
      "\n",
      "[notice] A new release of pip is available: 24.3.1 -> 25.1.1\n",
      "[notice] To update, run: python.exe -m pip install --upgrade pip\n"
     ]
    },
    {
     "name": "stdout",
     "output_type": "stream",
     "text": [
      "Requirement already satisfied: python-dotenv in c:\\users\\hp\\documents\\llm\\rag\\rag\\lib\\site-packages (1.1.0)\n"
     ]
    },
    {
     "name": "stderr",
     "output_type": "stream",
     "text": [
      "\n",
      "[notice] A new release of pip is available: 24.3.1 -> 25.1.1\n",
      "[notice] To update, run: python.exe -m pip install --upgrade pip\n"
     ]
    },
    {
     "name": "stdout",
     "output_type": "stream",
     "text": [
      "Collecting google-api-core\n",
      "  Downloading google_api_core-2.24.2-py3-none-any.whl.metadata (3.0 kB)\n",
      "Requirement already satisfied: googleapis-common-protos<2.0.0,>=1.56.2 in c:\\users\\hp\\documents\\llm\\rag\\rag\\lib\\site-packages (from google-api-core) (1.70.0)\n",
      "Requirement already satisfied: protobuf!=3.20.0,!=3.20.1,!=4.21.0,!=4.21.1,!=4.21.2,!=4.21.3,!=4.21.4,!=4.21.5,<7.0.0,>=3.19.5 in c:\\users\\hp\\documents\\llm\\rag\\rag\\lib\\site-packages (from google-api-core) (5.29.4)\n",
      "Collecting proto-plus<2.0.0,>=1.22.3 (from google-api-core)\n",
      "  Downloading proto_plus-1.26.1-py3-none-any.whl.metadata (2.2 kB)\n",
      "Requirement already satisfied: google-auth<3.0.0,>=2.14.1 in c:\\users\\hp\\documents\\llm\\rag\\rag\\lib\\site-packages (from google-api-core) (2.39.0)\n",
      "Requirement already satisfied: requests<3.0.0,>=2.18.0 in c:\\users\\hp\\documents\\llm\\rag\\rag\\lib\\site-packages (from google-api-core) (2.32.3)\n",
      "Requirement already satisfied: cachetools<6.0,>=2.0.0 in c:\\users\\hp\\documents\\llm\\rag\\rag\\lib\\site-packages (from google-auth<3.0.0,>=2.14.1->google-api-core) (5.5.2)\n",
      "Requirement already satisfied: pyasn1-modules>=0.2.1 in c:\\users\\hp\\documents\\llm\\rag\\rag\\lib\\site-packages (from google-auth<3.0.0,>=2.14.1->google-api-core) (0.4.2)\n",
      "Requirement already satisfied: rsa<5,>=3.1.4 in c:\\users\\hp\\documents\\llm\\rag\\rag\\lib\\site-packages (from google-auth<3.0.0,>=2.14.1->google-api-core) (4.9.1)\n",
      "Requirement already satisfied: charset-normalizer<4,>=2 in c:\\users\\hp\\documents\\llm\\rag\\rag\\lib\\site-packages (from requests<3.0.0,>=2.18.0->google-api-core) (3.4.2)\n",
      "Requirement already satisfied: idna<4,>=2.5 in c:\\users\\hp\\documents\\llm\\rag\\rag\\lib\\site-packages (from requests<3.0.0,>=2.18.0->google-api-core) (3.10)\n",
      "Requirement already satisfied: urllib3<3,>=1.21.1 in c:\\users\\hp\\documents\\llm\\rag\\rag\\lib\\site-packages (from requests<3.0.0,>=2.18.0->google-api-core) (2.4.0)\n",
      "Requirement already satisfied: certifi>=2017.4.17 in c:\\users\\hp\\documents\\llm\\rag\\rag\\lib\\site-packages (from requests<3.0.0,>=2.18.0->google-api-core) (2025.4.26)\n",
      "Requirement already satisfied: pyasn1<0.7.0,>=0.6.1 in c:\\users\\hp\\documents\\llm\\rag\\rag\\lib\\site-packages (from pyasn1-modules>=0.2.1->google-auth<3.0.0,>=2.14.1->google-api-core) (0.6.1)\n",
      "Downloading google_api_core-2.24.2-py3-none-any.whl (160 kB)\n",
      "Downloading proto_plus-1.26.1-py3-none-any.whl (50 kB)\n",
      "Installing collected packages: proto-plus, google-api-core\n",
      "Successfully installed google-api-core-2.24.2 proto-plus-1.26.1\n"
     ]
    },
    {
     "name": "stderr",
     "output_type": "stream",
     "text": [
      "\n",
      "[notice] A new release of pip is available: 24.3.1 -> 25.1.1\n",
      "[notice] To update, run: python.exe -m pip install --upgrade pip\n"
     ]
    }
   ],
   "source": [
    "!pip install -qU \"google-genai==1.7.0\" \"chromadb==0.6.3\"\n",
    "!pip install python-dotenv\n",
    "!pip install google-api-core"
   ]
  },
  {
   "cell_type": "code",
   "execution_count": 30,
   "id": "c99aafaa",
   "metadata": {},
   "outputs": [
    {
     "name": "stdout",
     "output_type": "stream",
     "text": [
      "Requirement already satisfied: chromadb==0.6.3 in c:\\users\\hp\\documents\\llm\\rag\\rag\\lib\\site-packages (0.6.3)\n",
      "Requirement already satisfied: build>=1.0.3 in c:\\users\\hp\\documents\\llm\\rag\\rag\\lib\\site-packages (from chromadb==0.6.3) (1.2.2.post1)\n",
      "Requirement already satisfied: pydantic>=1.9 in c:\\users\\hp\\documents\\llm\\rag\\rag\\lib\\site-packages (from chromadb==0.6.3) (2.11.4)\n",
      "Requirement already satisfied: chroma-hnswlib==0.7.6 in c:\\users\\hp\\documents\\llm\\rag\\rag\\lib\\site-packages (from chromadb==0.6.3) (0.7.6)\n",
      "Requirement already satisfied: fastapi>=0.95.2 in c:\\users\\hp\\documents\\llm\\rag\\rag\\lib\\site-packages (from chromadb==0.6.3) (0.115.12)\n",
      "Requirement already satisfied: uvicorn>=0.18.3 in c:\\users\\hp\\documents\\llm\\rag\\rag\\lib\\site-packages (from uvicorn[standard]>=0.18.3->chromadb==0.6.3) (0.34.2)\n",
      "Requirement already satisfied: numpy>=1.22.5 in c:\\users\\hp\\documents\\llm\\rag\\rag\\lib\\site-packages (from chromadb==0.6.3) (2.2.5)\n",
      "Requirement already satisfied: posthog>=2.4.0 in c:\\users\\hp\\documents\\llm\\rag\\rag\\lib\\site-packages (from chromadb==0.6.3) (4.0.1)\n",
      "Requirement already satisfied: typing_extensions>=4.5.0 in c:\\users\\hp\\documents\\llm\\rag\\rag\\lib\\site-packages (from chromadb==0.6.3) (4.13.2)\n",
      "Requirement already satisfied: onnxruntime>=1.14.1 in c:\\users\\hp\\documents\\llm\\rag\\rag\\lib\\site-packages (from chromadb==0.6.3) (1.21.1)\n",
      "Requirement already satisfied: opentelemetry-api>=1.2.0 in c:\\users\\hp\\documents\\llm\\rag\\rag\\lib\\site-packages (from chromadb==0.6.3) (1.32.1)\n",
      "Requirement already satisfied: opentelemetry-exporter-otlp-proto-grpc>=1.2.0 in c:\\users\\hp\\documents\\llm\\rag\\rag\\lib\\site-packages (from chromadb==0.6.3) (1.32.1)\n",
      "Requirement already satisfied: opentelemetry-instrumentation-fastapi>=0.41b0 in c:\\users\\hp\\documents\\llm\\rag\\rag\\lib\\site-packages (from chromadb==0.6.3) (0.53b1)\n",
      "Requirement already satisfied: opentelemetry-sdk>=1.2.0 in c:\\users\\hp\\documents\\llm\\rag\\rag\\lib\\site-packages (from chromadb==0.6.3) (1.32.1)\n",
      "Requirement already satisfied: tokenizers>=0.13.2 in c:\\users\\hp\\documents\\llm\\rag\\rag\\lib\\site-packages (from chromadb==0.6.3) (0.21.1)\n",
      "Requirement already satisfied: pypika>=0.48.9 in c:\\users\\hp\\documents\\llm\\rag\\rag\\lib\\site-packages (from chromadb==0.6.3) (0.48.9)\n",
      "Requirement already satisfied: tqdm>=4.65.0 in c:\\users\\hp\\documents\\llm\\rag\\rag\\lib\\site-packages (from chromadb==0.6.3) (4.67.1)\n",
      "Requirement already satisfied: overrides>=7.3.1 in c:\\users\\hp\\documents\\llm\\rag\\rag\\lib\\site-packages (from chromadb==0.6.3) (7.7.0)\n",
      "Requirement already satisfied: importlib-resources in c:\\users\\hp\\documents\\llm\\rag\\rag\\lib\\site-packages (from chromadb==0.6.3) (6.5.2)\n",
      "Requirement already satisfied: grpcio>=1.58.0 in c:\\users\\hp\\documents\\llm\\rag\\rag\\lib\\site-packages (from chromadb==0.6.3) (1.71.0)\n",
      "Requirement already satisfied: bcrypt>=4.0.1 in c:\\users\\hp\\documents\\llm\\rag\\rag\\lib\\site-packages (from chromadb==0.6.3) (4.3.0)\n",
      "Requirement already satisfied: typer>=0.9.0 in c:\\users\\hp\\documents\\llm\\rag\\rag\\lib\\site-packages (from chromadb==0.6.3) (0.15.3)\n",
      "Requirement already satisfied: kubernetes>=28.1.0 in c:\\users\\hp\\documents\\llm\\rag\\rag\\lib\\site-packages (from chromadb==0.6.3) (32.0.1)\n",
      "Requirement already satisfied: tenacity>=8.2.3 in c:\\users\\hp\\documents\\llm\\rag\\rag\\lib\\site-packages (from chromadb==0.6.3) (9.1.2)\n",
      "Requirement already satisfied: PyYAML>=6.0.0 in c:\\users\\hp\\documents\\llm\\rag\\rag\\lib\\site-packages (from chromadb==0.6.3) (6.0.2)\n",
      "Requirement already satisfied: mmh3>=4.0.1 in c:\\users\\hp\\documents\\llm\\rag\\rag\\lib\\site-packages (from chromadb==0.6.3) (5.1.0)\n",
      "Requirement already satisfied: orjson>=3.9.12 in c:\\users\\hp\\documents\\llm\\rag\\rag\\lib\\site-packages (from chromadb==0.6.3) (3.10.18)\n",
      "Requirement already satisfied: httpx>=0.27.0 in c:\\users\\hp\\documents\\llm\\rag\\rag\\lib\\site-packages (from chromadb==0.6.3) (0.28.1)\n",
      "Requirement already satisfied: rich>=10.11.0 in c:\\users\\hp\\documents\\llm\\rag\\rag\\lib\\site-packages (from chromadb==0.6.3) (14.0.0)\n",
      "Requirement already satisfied: packaging>=19.1 in c:\\users\\hp\\documents\\llm\\rag\\rag\\lib\\site-packages (from build>=1.0.3->chromadb==0.6.3) (25.0)\n",
      "Requirement already satisfied: pyproject_hooks in c:\\users\\hp\\documents\\llm\\rag\\rag\\lib\\site-packages (from build>=1.0.3->chromadb==0.6.3) (1.2.0)\n",
      "Requirement already satisfied: colorama in c:\\users\\hp\\documents\\llm\\rag\\rag\\lib\\site-packages (from build>=1.0.3->chromadb==0.6.3) (0.4.6)\n",
      "Requirement already satisfied: starlette<0.47.0,>=0.40.0 in c:\\users\\hp\\documents\\llm\\rag\\rag\\lib\\site-packages (from fastapi>=0.95.2->chromadb==0.6.3) (0.46.2)\n",
      "Requirement already satisfied: anyio in c:\\users\\hp\\documents\\llm\\rag\\rag\\lib\\site-packages (from httpx>=0.27.0->chromadb==0.6.3) (4.9.0)\n",
      "Requirement already satisfied: certifi in c:\\users\\hp\\documents\\llm\\rag\\rag\\lib\\site-packages (from httpx>=0.27.0->chromadb==0.6.3) (2025.4.26)\n",
      "Requirement already satisfied: httpcore==1.* in c:\\users\\hp\\documents\\llm\\rag\\rag\\lib\\site-packages (from httpx>=0.27.0->chromadb==0.6.3) (1.0.9)\n",
      "Requirement already satisfied: idna in c:\\users\\hp\\documents\\llm\\rag\\rag\\lib\\site-packages (from httpx>=0.27.0->chromadb==0.6.3) (3.10)\n",
      "Requirement already satisfied: h11>=0.16 in c:\\users\\hp\\documents\\llm\\rag\\rag\\lib\\site-packages (from httpcore==1.*->httpx>=0.27.0->chromadb==0.6.3) (0.16.0)\n",
      "Requirement already satisfied: six>=1.9.0 in c:\\users\\hp\\documents\\llm\\rag\\rag\\lib\\site-packages (from kubernetes>=28.1.0->chromadb==0.6.3) (1.17.0)\n",
      "Requirement already satisfied: python-dateutil>=2.5.3 in c:\\users\\hp\\documents\\llm\\rag\\rag\\lib\\site-packages (from kubernetes>=28.1.0->chromadb==0.6.3) (2.9.0.post0)\n",
      "Requirement already satisfied: google-auth>=1.0.1 in c:\\users\\hp\\documents\\llm\\rag\\rag\\lib\\site-packages (from kubernetes>=28.1.0->chromadb==0.6.3) (2.39.0)\n",
      "Requirement already satisfied: websocket-client!=0.40.0,!=0.41.*,!=0.42.*,>=0.32.0 in c:\\users\\hp\\documents\\llm\\rag\\rag\\lib\\site-packages (from kubernetes>=28.1.0->chromadb==0.6.3) (1.8.0)\n",
      "Requirement already satisfied: requests in c:\\users\\hp\\documents\\llm\\rag\\rag\\lib\\site-packages (from kubernetes>=28.1.0->chromadb==0.6.3) (2.32.3)\n",
      "Requirement already satisfied: requests-oauthlib in c:\\users\\hp\\documents\\llm\\rag\\rag\\lib\\site-packages (from kubernetes>=28.1.0->chromadb==0.6.3) (2.0.0)\n",
      "Requirement already satisfied: oauthlib>=3.2.2 in c:\\users\\hp\\documents\\llm\\rag\\rag\\lib\\site-packages (from kubernetes>=28.1.0->chromadb==0.6.3) (3.2.2)\n",
      "Requirement already satisfied: urllib3>=1.24.2 in c:\\users\\hp\\documents\\llm\\rag\\rag\\lib\\site-packages (from kubernetes>=28.1.0->chromadb==0.6.3) (2.4.0)\n",
      "Requirement already satisfied: durationpy>=0.7 in c:\\users\\hp\\documents\\llm\\rag\\rag\\lib\\site-packages (from kubernetes>=28.1.0->chromadb==0.6.3) (0.9)\n",
      "Requirement already satisfied: coloredlogs in c:\\users\\hp\\documents\\llm\\rag\\rag\\lib\\site-packages (from onnxruntime>=1.14.1->chromadb==0.6.3) (15.0.1)\n",
      "Requirement already satisfied: flatbuffers in c:\\users\\hp\\documents\\llm\\rag\\rag\\lib\\site-packages (from onnxruntime>=1.14.1->chromadb==0.6.3) (25.2.10)\n",
      "Requirement already satisfied: protobuf in c:\\users\\hp\\documents\\llm\\rag\\rag\\lib\\site-packages (from onnxruntime>=1.14.1->chromadb==0.6.3) (5.29.4)\n",
      "Requirement already satisfied: sympy in c:\\users\\hp\\documents\\llm\\rag\\rag\\lib\\site-packages (from onnxruntime>=1.14.1->chromadb==0.6.3) (1.14.0)\n",
      "Requirement already satisfied: deprecated>=1.2.6 in c:\\users\\hp\\documents\\llm\\rag\\rag\\lib\\site-packages (from opentelemetry-api>=1.2.0->chromadb==0.6.3) (1.2.18)\n",
      "Requirement already satisfied: importlib-metadata<8.7.0,>=6.0 in c:\\users\\hp\\documents\\llm\\rag\\rag\\lib\\site-packages (from opentelemetry-api>=1.2.0->chromadb==0.6.3) (8.6.1)\n",
      "Requirement already satisfied: googleapis-common-protos~=1.52 in c:\\users\\hp\\documents\\llm\\rag\\rag\\lib\\site-packages (from opentelemetry-exporter-otlp-proto-grpc>=1.2.0->chromadb==0.6.3) (1.70.0)\n",
      "Requirement already satisfied: opentelemetry-exporter-otlp-proto-common==1.32.1 in c:\\users\\hp\\documents\\llm\\rag\\rag\\lib\\site-packages (from opentelemetry-exporter-otlp-proto-grpc>=1.2.0->chromadb==0.6.3) (1.32.1)\n",
      "Requirement already satisfied: opentelemetry-proto==1.32.1 in c:\\users\\hp\\documents\\llm\\rag\\rag\\lib\\site-packages (from opentelemetry-exporter-otlp-proto-grpc>=1.2.0->chromadb==0.6.3) (1.32.1)\n",
      "Requirement already satisfied: opentelemetry-instrumentation-asgi==0.53b1 in c:\\users\\hp\\documents\\llm\\rag\\rag\\lib\\site-packages (from opentelemetry-instrumentation-fastapi>=0.41b0->chromadb==0.6.3) (0.53b1)\n",
      "Requirement already satisfied: opentelemetry-instrumentation==0.53b1 in c:\\users\\hp\\documents\\llm\\rag\\rag\\lib\\site-packages (from opentelemetry-instrumentation-fastapi>=0.41b0->chromadb==0.6.3) (0.53b1)\n",
      "Requirement already satisfied: opentelemetry-semantic-conventions==0.53b1 in c:\\users\\hp\\documents\\llm\\rag\\rag\\lib\\site-packages (from opentelemetry-instrumentation-fastapi>=0.41b0->chromadb==0.6.3) (0.53b1)\n",
      "Requirement already satisfied: opentelemetry-util-http==0.53b1 in c:\\users\\hp\\documents\\llm\\rag\\rag\\lib\\site-packages (from opentelemetry-instrumentation-fastapi>=0.41b0->chromadb==0.6.3) (0.53b1)\n",
      "Requirement already satisfied: wrapt<2.0.0,>=1.0.0 in c:\\users\\hp\\documents\\llm\\rag\\rag\\lib\\site-packages (from opentelemetry-instrumentation==0.53b1->opentelemetry-instrumentation-fastapi>=0.41b0->chromadb==0.6.3) (1.17.2)\n",
      "Requirement already satisfied: asgiref~=3.0 in c:\\users\\hp\\documents\\llm\\rag\\rag\\lib\\site-packages (from opentelemetry-instrumentation-asgi==0.53b1->opentelemetry-instrumentation-fastapi>=0.41b0->chromadb==0.6.3) (3.8.1)\n",
      "Requirement already satisfied: backoff>=1.10.0 in c:\\users\\hp\\documents\\llm\\rag\\rag\\lib\\site-packages (from posthog>=2.4.0->chromadb==0.6.3) (2.2.1)\n",
      "Requirement already satisfied: distro>=1.5.0 in c:\\users\\hp\\documents\\llm\\rag\\rag\\lib\\site-packages (from posthog>=2.4.0->chromadb==0.6.3) (1.9.0)\n",
      "Requirement already satisfied: annotated-types>=0.6.0 in c:\\users\\hp\\documents\\llm\\rag\\rag\\lib\\site-packages (from pydantic>=1.9->chromadb==0.6.3) (0.7.0)\n",
      "Requirement already satisfied: pydantic-core==2.33.2 in c:\\users\\hp\\documents\\llm\\rag\\rag\\lib\\site-packages (from pydantic>=1.9->chromadb==0.6.3) (2.33.2)\n",
      "Requirement already satisfied: typing-inspection>=0.4.0 in c:\\users\\hp\\documents\\llm\\rag\\rag\\lib\\site-packages (from pydantic>=1.9->chromadb==0.6.3) (0.4.0)\n",
      "Requirement already satisfied: markdown-it-py>=2.2.0 in c:\\users\\hp\\documents\\llm\\rag\\rag\\lib\\site-packages (from rich>=10.11.0->chromadb==0.6.3) (3.0.0)\n",
      "Requirement already satisfied: pygments<3.0.0,>=2.13.0 in c:\\users\\hp\\documents\\llm\\rag\\rag\\lib\\site-packages (from rich>=10.11.0->chromadb==0.6.3) (2.19.1)\n",
      "Requirement already satisfied: huggingface-hub<1.0,>=0.16.4 in c:\\users\\hp\\documents\\llm\\rag\\rag\\lib\\site-packages (from tokenizers>=0.13.2->chromadb==0.6.3) (0.30.2)\n",
      "Requirement already satisfied: click>=8.0.0 in c:\\users\\hp\\documents\\llm\\rag\\rag\\lib\\site-packages (from typer>=0.9.0->chromadb==0.6.3) (8.1.8)\n",
      "Requirement already satisfied: shellingham>=1.3.0 in c:\\users\\hp\\documents\\llm\\rag\\rag\\lib\\site-packages (from typer>=0.9.0->chromadb==0.6.3) (1.5.4)\n",
      "Requirement already satisfied: httptools>=0.6.3 in c:\\users\\hp\\documents\\llm\\rag\\rag\\lib\\site-packages (from uvicorn[standard]>=0.18.3->chromadb==0.6.3) (0.6.4)\n",
      "Requirement already satisfied: python-dotenv>=0.13 in c:\\users\\hp\\documents\\llm\\rag\\rag\\lib\\site-packages (from uvicorn[standard]>=0.18.3->chromadb==0.6.3) (1.1.0)\n",
      "Requirement already satisfied: watchfiles>=0.13 in c:\\users\\hp\\documents\\llm\\rag\\rag\\lib\\site-packages (from uvicorn[standard]>=0.18.3->chromadb==0.6.3) (1.0.5)\n",
      "Requirement already satisfied: websockets>=10.4 in c:\\users\\hp\\documents\\llm\\rag\\rag\\lib\\site-packages (from uvicorn[standard]>=0.18.3->chromadb==0.6.3) (15.0.1)\n",
      "Requirement already satisfied: cachetools<6.0,>=2.0.0 in c:\\users\\hp\\documents\\llm\\rag\\rag\\lib\\site-packages (from google-auth>=1.0.1->kubernetes>=28.1.0->chromadb==0.6.3) (5.5.2)\n",
      "Requirement already satisfied: pyasn1-modules>=0.2.1 in c:\\users\\hp\\documents\\llm\\rag\\rag\\lib\\site-packages (from google-auth>=1.0.1->kubernetes>=28.1.0->chromadb==0.6.3) (0.4.2)\n",
      "Requirement already satisfied: rsa<5,>=3.1.4 in c:\\users\\hp\\documents\\llm\\rag\\rag\\lib\\site-packages (from google-auth>=1.0.1->kubernetes>=28.1.0->chromadb==0.6.3) (4.9.1)\n",
      "Requirement already satisfied: filelock in c:\\users\\hp\\documents\\llm\\rag\\rag\\lib\\site-packages (from huggingface-hub<1.0,>=0.16.4->tokenizers>=0.13.2->chromadb==0.6.3) (3.18.0)\n",
      "Requirement already satisfied: fsspec>=2023.5.0 in c:\\users\\hp\\documents\\llm\\rag\\rag\\lib\\site-packages (from huggingface-hub<1.0,>=0.16.4->tokenizers>=0.13.2->chromadb==0.6.3) (2025.3.2)\n",
      "Requirement already satisfied: zipp>=3.20 in c:\\users\\hp\\documents\\llm\\rag\\rag\\lib\\site-packages (from importlib-metadata<8.7.0,>=6.0->opentelemetry-api>=1.2.0->chromadb==0.6.3) (3.21.0)\n",
      "Requirement already satisfied: mdurl~=0.1 in c:\\users\\hp\\documents\\llm\\rag\\rag\\lib\\site-packages (from markdown-it-py>=2.2.0->rich>=10.11.0->chromadb==0.6.3) (0.1.2)\n",
      "Requirement already satisfied: charset-normalizer<4,>=2 in c:\\users\\hp\\documents\\llm\\rag\\rag\\lib\\site-packages (from requests->kubernetes>=28.1.0->chromadb==0.6.3) (3.4.2)\n",
      "Requirement already satisfied: sniffio>=1.1 in c:\\users\\hp\\documents\\llm\\rag\\rag\\lib\\site-packages (from anyio->httpx>=0.27.0->chromadb==0.6.3) (1.3.1)\n",
      "Requirement already satisfied: humanfriendly>=9.1 in c:\\users\\hp\\documents\\llm\\rag\\rag\\lib\\site-packages (from coloredlogs->onnxruntime>=1.14.1->chromadb==0.6.3) (10.0)\n",
      "Requirement already satisfied: mpmath<1.4,>=1.1.0 in c:\\users\\hp\\documents\\llm\\rag\\rag\\lib\\site-packages (from sympy->onnxruntime>=1.14.1->chromadb==0.6.3) (1.3.0)\n",
      "Requirement already satisfied: pyreadline3 in c:\\users\\hp\\documents\\llm\\rag\\rag\\lib\\site-packages (from humanfriendly>=9.1->coloredlogs->onnxruntime>=1.14.1->chromadb==0.6.3) (3.5.4)\n",
      "Requirement already satisfied: pyasn1<0.7.0,>=0.6.1 in c:\\users\\hp\\documents\\llm\\rag\\rag\\lib\\site-packages (from pyasn1-modules>=0.2.1->google-auth>=1.0.1->kubernetes>=28.1.0->chromadb==0.6.3) (0.6.1)\n"
     ]
    },
    {
     "name": "stderr",
     "output_type": "stream",
     "text": [
      "\n",
      "[notice] A new release of pip is available: 24.3.1 -> 25.1.1\n",
      "[notice] To update, run: python.exe -m pip install --upgrade pip\n"
     ]
    }
   ],
   "source": [
    "!pip install \"chromadb==0.6.3\""
   ]
  },
  {
   "cell_type": "markdown",
   "id": "9f2e4eef",
   "metadata": {},
   "source": [
    "Nous allons importer tous les packages necessaires"
   ]
  },
  {
   "cell_type": "code",
   "execution_count": 29,
   "id": "945648a1",
   "metadata": {},
   "outputs": [
    {
     "data": {
      "text/plain": [
       "'1.7.0'"
      ]
     },
     "execution_count": 29,
     "metadata": {},
     "output_type": "execute_result"
    }
   ],
   "source": [
    "from google import genai\n",
    "from google.genai import types\n",
    "\n",
    "from IPython.display import Markdown\n",
    "\n",
    "genai.__version__"
   ]
  },
  {
   "cell_type": "code",
   "execution_count": null,
   "id": "8d40904f",
   "metadata": {},
   "outputs": [
    {
     "name": "stdout",
     "output_type": "stream",
     "text": [
      "✅ .env bien chargé.\n",
      "Clé détectée (début) : AIzaS******\n"
     ]
    }
   ],
   "source": [
    "from dotenv import load_dotenv\n",
    "import os\n",
    "\n",
    "# Charge le .env situé dans le même dossier\n",
    "load_dotenv()\n",
    "\n",
    "# Vérifie que la variable est bien chargée\n",
    "api = os.getenv(\"GOOGLE_API_KEY\")\n",
    "\n",
    "if api:\n",
    "    print(\".env bien chargé.\")\n",
    "    print(f\"Clé détectée (début) : {api[:5]}******\")\n",
    "else:\n",
    "    print(\" Clé non trouvée. Vérifie le nom dans .env ou sa syntaxe.\")\n"
   ]
  },
  {
   "cell_type": "code",
   "execution_count": 15,
   "id": "427c26b6",
   "metadata": {},
   "outputs": [
    {
     "name": "stdout",
     "output_type": "stream",
     "text": [
      "models/embedding-001\n",
      "models/text-embedding-004\n",
      "models/gemini-embedding-exp-03-07\n",
      "models/gemini-embedding-exp\n"
     ]
    }
   ],
   "source": [
    "client = genai.Client(api_key=api)\n",
    "\n",
    "for m in client.models.list():\n",
    "    if \"embedContent\" in m.supported_actions:\n",
    "        print(m.name)"
   ]
  },
  {
   "cell_type": "markdown",
   "id": "5558a6ad",
   "metadata": {},
   "source": [
    "Nous allons importer nos données"
   ]
  },
  {
   "cell_type": "code",
   "execution_count": 20,
   "id": "c266c1cd",
   "metadata": {},
   "outputs": [
    {
     "name": "stdout",
     "output_type": "stream",
     "text": [
      "\n",
      "--- Chunk 1 ---\n",
      "Impact Language oversees a school of excellence and cultural diversity\n",
      "\n",
      "--- Contenu structuré extrait de : https://impactlanguagementors.com/fr/facilities/ ---\n",
      "\n",
      " Ventilated room\n",
      "Some quick example text to build on the card title and make up the bulk of the card’s content. Air-conditioned room\n",
      "Some quick example text to build on the card title and make up the bulk of the card’s content. Kitchen\n",
      "Existence of a large kitchen. There is a gas bottle and a burner in the kitchen which is shared between neighbors. You will nevertheless need to obtain your own cooking utensils. Canteen\n",
      "The full canteen is 120,000 CFA per month (breakfast, lunch and dinner)\n",
      "\n",
      " Class Rooms\n",
      "Existence of a large kitchen. There is a gas bottle and a burner in the kitchen which is shared between neighbors.\n",
      "\n",
      "--- Chunk 2 ---\n",
      "You will nevertheless need to obtain your own cooking utensils. Friendly\n",
      "The full canteen is 120,000 CFA per month (breakfast, lunch and dinner)\n",
      "Impact Language oversees a school of excellence and cultural diversity\n",
      "\n",
      "--- Contenu structuré extrait de : https://impactlanguagementors.com/fr/admission/ ---\n",
      "\n",
      "Requirments\n",
      "A passport photo and photocopy of the national identity document or passport. We recommend that the student pays the full tuition fee. A negotiation in two installments is possible. Why Choose Us ? 1.Experienced and qualified teachers. 2.No more than 10 students per class. 3.Private lessons. 4.A certificate at the end of your training. 5.Registered with the Ghana Education Service (GES). How to Get to ILM ?\n",
      "\n",
      "--- Chunk 3 ---\n",
      "Passport or Identity Document\n",
      "With your national identity card or passport you have nothing to worry about, you can cross the border with complete peace of mind if your country is part of the ECOWAS member countries but you will have to provide a sum of 5,000 CFA for ECOWAS passport holders for the stamp if it is the first time you cross the Ghanaian border. #On the other hand, with the national identity document you don’t have to pay anything. #Students coming from a non-ECOWAS country for your Visa formalities our establishment undertakes to issue you an admission letter in less than an hour after enrolling in one of our programs. A pick-up is available upon your arrival\n",
      "\n",
      " Vaccination Record\n",
      "The student must be vaccinated against yellow fever, meningitis and hepatitis B.\n",
      "\n",
      "--- Chunk 4 ---\n",
      "Travel Plans - By Air or Road\n",
      "If you are thinking of coming to Ghana by land or by air, do not hesitate to write or contact us now for more information. Impact Language oversees a school of excellence and cultural diversity\n",
      "\n",
      "--- Contenu structuré extrait de : https://impactlanguagementors.com/fr/contact-us/ ---\n",
      "\n",
      " Our Address\n",
      "Dawhenya, Methodist Junction, Tena, Ghana. +233559643898\n",
      "+233268896068\n",
      "+233260909144\n",
      "Impact Language oversees a school of excellence and cultural diversity\n"
     ]
    }
   ],
   "source": [
    "#ILM DATA WEBSCRAPPING\n",
    "\n",
    "import re\n",
    "\n",
    "def split_text_into_chunks(text, max_chunk_size=800):\n",
    "    # Découpe aux fins de phrases (., ?, !) tout en respectant une taille max\n",
    "    sentences = re.split(r'(?<=[.!?])\\s+', text)\n",
    "    chunks = []\n",
    "    current_chunk = \"\"\n",
    "\n",
    "    for sentence in sentences:\n",
    "        if len(current_chunk) + len(sentence) <= max_chunk_size:\n",
    "            current_chunk += sentence + \" \"\n",
    "        else:\n",
    "            chunks.append(current_chunk.strip())\n",
    "            current_chunk = sentence + \" \"\n",
    "    if current_chunk:\n",
    "        chunks.append(current_chunk.strip())\n",
    "\n",
    "    return chunks\n",
    "\n",
    "# Lecture du fichier\n",
    "with open(\"output_impact_all.txt\", \"r\", encoding=\"utf-8\") as f:\n",
    "    text = f.read()\n",
    "\n",
    "chunks = split_text_into_chunks(text)\n",
    "\n",
    "# Exemple : afficher les 3 premiers\n",
    "for i, chunk in enumerate(chunks[5:9]):\n",
    "    print(f\"\\n--- Chunk {i+1} ---\\n{chunk}\")\n"
   ]
  },
  {
   "cell_type": "code",
   "execution_count": 25,
   "id": "deba860a",
   "metadata": {},
   "outputs": [
    {
     "name": "stdout",
     "output_type": "stream",
     "text": [
      "['--- Contenu structuré extrait de : https://impactlanguagementors.com/fr/ ---\\n\\n Welcome to ILM\\nWe are accredited by GES (Ghana Education Service) and language departments consisting of English, French and Spanish. Within which we offer courses like General English, French, Spanish: Intensive (25 hours per week) and Non-Intensive (15 hours per week), Professional English and Exam Preparation: TOFEL, IETLS, SAT, GMAT\\n\\nOur Programs\\nGeneral & Accelerated English Courses\\nGeneral English courses are ideal for those\\nwho need to improve their English skills\\nbefore study, work or pleasure. Professional English Courses\\nBusiness English courses will improve your presentation skills, interview techniques as well as your management and negotiation abilities.', 'Preparation For TOEFL, TOEIC,   IETLS Tests\\nAfter completing your general English courses, the next step is exam preparation for IETLS, TOEIC, TOFEL. Online English Courses\\nWe bring ILM to your home! Our General English course is designed to give you a solid foundation in English and develop your communication skills. Summer camp\\nFor all your summer camps in Ghana, one destination Impact Language Mentors. Accommodation\\nAvailability of rooms for 1 to 2 people ventilated and air-conditioned room. The rooms and classrooms are in the same perimeters you no longer have to pay transport costs. Why Choose Us ? 1.Experienced and qualified teachers. 2.No more than 10 students per class. 3.Private lessons. 4.A certificate at the end of your training.', '5.Registered with the Ghana Education Service (GES). --- Contenu structuré extrait de : https://impactlanguagementors.com/fr/about-us/ ---\\n\\n About Us\\nImpact Language oversees a school of excellence and cultural diversity founded by Mr. and Mrs. ZONON and established in 2018 located in Tema, Greater Accra Region. We are accredited by GES (Ghana Education Service) and language departments consisting of English, French and Spanish. Within which we offer courses like General English, French, Spanish: Intensive (25 hours per week) and Non-Intensive (15 hours per week), Professional English and Exam Preparation: TOFEL, IETLS, SAT, GMAT…etc. .', 'We also offer online courses for those who cannot come to our language center in Ghana via our video conferences: Whatsapp, Google meeting, Skype, Facebook, for those who need to improve their English level before studying, working. or pleasure. Our teaching staff is composed of well-trained and experienced teachers, ready to work so that you can achieve your results. The courses are divided into 3 main levels: Beginner (A1 or A2), Intermediate (B1 or B2) and then Advanced (C). We also train companies, NGOs and home tuition. Contact us now. • Our Mission Impact Language Mentors aims to set high standards in the education sector by constantly meeting our clients’ expectations and constantly improving ourselves in order to continually provide a quality service to all our clients.', '• Our Vision To be a leader in the field of education by offering high quality language and training programs at a competitive price. • Core Value Respect: It all starts with respect. We value and respect everyone we come into contact with. Our Mission\\nImpact Language Mentors aims to set high standards in the education industry by constantly meeting our customers’ expectations and constantly upgrading ourselves so as to continually provide quality service to all our customers. Our Vision\\nTo be a leader in the field of education by offering high quality language and training programs at a competitive price. Core Value\\nRespect: everything starts from respect. We value and respect each and every one we come into contact with.', 'Impact Language oversees a school of excellence and cultural diversity\\n\\n--- Contenu structuré extrait de : https://impactlanguagementors.com/fr/facilities/ ---\\n\\n Ventilated room\\nSome quick example text to build on the card title and make up the bulk of the card’s content. Air-conditioned room\\nSome quick example text to build on the card title and make up the bulk of the card’s content. Kitchen\\nExistence of a large kitchen. There is a gas bottle and a burner in the kitchen which is shared between neighbors. You will nevertheless need to obtain your own cooking utensils. Canteen\\nThe full canteen is 120,000 CFA per month (breakfast, lunch and dinner)\\n\\n Class Rooms\\nExistence of a large kitchen. There is a gas bottle and a burner in the kitchen which is shared between neighbors.', 'You will nevertheless need to obtain your own cooking utensils. Friendly\\nThe full canteen is 120,000 CFA per month (breakfast, lunch and dinner)\\nImpact Language oversees a school of excellence and cultural diversity\\n\\n--- Contenu structuré extrait de : https://impactlanguagementors.com/fr/admission/ ---\\n\\nRequirments\\nA passport photo and photocopy of the national identity document or passport. We recommend that the student pays the full tuition fee. A negotiation in two installments is possible. Why Choose Us ? 1.Experienced and qualified teachers. 2.No more than 10 students per class. 3.Private lessons. 4.A certificate at the end of your training. 5.Registered with the Ghana Education Service (GES). How to Get to ILM ?', 'Passport or Identity Document\\nWith your national identity card or passport you have nothing to worry about, you can cross the border with complete peace of mind if your country is part of the ECOWAS member countries but you will have to provide a sum of 5,000 CFA for ECOWAS passport holders for the stamp if it is the first time you cross the Ghanaian border. #On the other hand, with the national identity document you don’t have to pay anything. #Students coming from a non-ECOWAS country for your Visa formalities our establishment undertakes to issue you an admission letter in less than an hour after enrolling in one of our programs. A pick-up is available upon your arrival\\n\\n Vaccination Record\\nThe student must be vaccinated against yellow fever, meningitis and hepatitis B.', 'Travel Plans - By Air or Road\\nIf you are thinking of coming to Ghana by land or by air, do not hesitate to write or contact us now for more information. Impact Language oversees a school of excellence and cultural diversity\\n\\n--- Contenu structuré extrait de : https://impactlanguagementors.com/fr/contact-us/ ---\\n\\n Our Address\\nDawhenya, Methodist Junction, Tena, Ghana. +233559643898\\n+233268896068\\n+233260909144\\nImpact Language oversees a school of excellence and cultural diversity']\n"
     ]
    }
   ],
   "source": [
    "Document = []  # Initialisation de la liste\n",
    "\n",
    "for i, chunk in enumerate(chunks, start=0):\n",
    "    Document.append( chunk) # Ajout du nom et du contenu sous forme de tuple\n",
    "\n",
    "print(Document)  # Affichage du résultat\n",
    "\n"
   ]
  },
  {
   "cell_type": "code",
   "execution_count": 33,
   "id": "51f32675",
   "metadata": {},
   "outputs": [],
   "source": [
    "from chromadb import Documents, EmbeddingFunction, Embeddings\n",
    "from google.api_core import retry\n",
    "\n",
    "from google.genai import types\n",
    "\n",
    "\n",
    "# Define a helper to retry when per-minute quota is reached.\n",
    "is_retriable = lambda e: (isinstance(e, genai.errors.APIError) and e.code in {429, 503})\n",
    "\n",
    "\n",
    "class GeminiEmbeddingFunction(EmbeddingFunction):\n",
    "    # Specify whether to generate embeddings for documents, or queries\n",
    "    document_mode = True\n",
    "\n",
    "    @retry.Retry(predicate=is_retriable)\n",
    "    def __call__(self, input: Documents) -> Embeddings:\n",
    "        if self.document_mode:\n",
    "            embedding_task = \"retrieval_document\"\n",
    "        else:\n",
    "            embedding_task = \"retrieval_query\"\n",
    "\n",
    "        response = client.models.embed_content(\n",
    "            model=\"models/text-embedding-004\",\n",
    "            contents=input,\n",
    "            config=types.EmbedContentConfig(\n",
    "                task_type=embedding_task,\n",
    "            ),\n",
    "        )\n",
    "        return [e.values for e in response.embeddings]"
   ]
  },
  {
   "cell_type": "code",
   "execution_count": 35,
   "id": "6c34d2ad",
   "metadata": {},
   "outputs": [],
   "source": [
    "import chromadb\n",
    "\n",
    "DB_NAME = \"ILM\"\n",
    "\n",
    "embed_fn = GeminiEmbeddingFunction()\n",
    "embed_fn.document_mode = True\n",
    "\n",
    "chroma_client = chromadb.Client()\n",
    "db = chroma_client.get_or_create_collection(name=DB_NAME, embedding_function=embed_fn)\n",
    "\n",
    "db.add(documents=Document, ids=[str(i) for i in range(len(Document))])"
   ]
  },
  {
   "cell_type": "code",
   "execution_count": 36,
   "id": "84b3aa87",
   "metadata": {},
   "outputs": [
    {
     "data": {
      "text/plain": [
       "9"
      ]
     },
     "execution_count": 36,
     "metadata": {},
     "output_type": "execute_result"
    }
   ],
   "source": [
    "db.count()"
   ]
  },
  {
   "cell_type": "markdown",
   "id": "6741ab0c",
   "metadata": {},
   "source": [
    "Retrieval: Find relevant documents\n",
    "To search the Chroma database, call the query method. Note that you also switch to the retrieval_query mode of embedding generation."
   ]
  },
  {
   "cell_type": "code",
   "execution_count": 38,
   "id": "07877171",
   "metadata": {},
   "outputs": [
    {
     "data": {
      "text/markdown": [
       "Travel Plans - By Air or Road\n",
       "If you are thinking of coming to Ghana by land or by air, do not hesitate to write or contact us now for more information. Impact Language oversees a school of excellence and cultural diversity\n",
       "\n",
       "--- Contenu structuré extrait de : https://impactlanguagementors.com/fr/contact-us/ ---\n",
       "\n",
       " Our Address\n",
       "Dawhenya, Methodist Junction, Tena, Ghana. +233559643898\n",
       "+233268896068\n",
       "+233260909144\n",
       "Impact Language oversees a school of excellence and cultural diversity"
      ],
      "text/plain": [
       "<IPython.core.display.Markdown object>"
      ]
     },
     "execution_count": 38,
     "metadata": {},
     "output_type": "execute_result"
    }
   ],
   "source": [
    "# Switch to query mode when generating embeddings.\n",
    "embed_fn.document_mode = False\n",
    "\n",
    "# Search the Chroma DB using the specified query.\n",
    "query = \"what is your address?\"\n",
    "\n",
    "result = db.query(query_texts=[query], n_results=1)\n",
    "[all_passages] = result[\"documents\"]\n",
    "\n",
    "Markdown(all_passages[0])"
   ]
  },
  {
   "cell_type": "markdown",
   "id": "2400c780",
   "metadata": {},
   "source": [
    "Augmented generation: Answer the question\n",
    "Now that you have found a relevant passage from the set of documents (the retrieval step), you can now assemble a generation prompt to have the Gemini API generate a final answer. Note that in this example only a single passage was retrieved. In practice, especially when the size of your underlying data is large, you will want to retrieve more than one result and let the Gemini model determine what passages are relevant in answering the question. For this reason it's OK if some retrieved passages are not directly related to the question - this generation step should ignore them."
   ]
  },
  {
   "cell_type": "code",
   "execution_count": 39,
   "id": "b7e220e2",
   "metadata": {},
   "outputs": [
    {
     "name": "stdout",
     "output_type": "stream",
     "text": [
      "You are a helpful and informative bot that answers questions using text from the reference passage included below. \n",
      "Be sure to respond in a complete sentence, being comprehensive, including all relevant background information. \n",
      "However, you are talking to a non-technical audience, so be sure to break down complicated concepts and \n",
      "strike a friendly and converstional tone. If the passage is irrelevant to the answer, you may ignore it.\n",
      "\n",
      "QUESTION: what is your address?\n",
      "PASSAGE: Travel Plans - By Air or Road If you are thinking of coming to Ghana by land or by air, do not hesitate to write or contact us now for more information. Impact Language oversees a school of excellence and cultural diversity  --- Contenu structuré extrait de : https://impactlanguagementors.com/fr/contact-us/ ---   Our Address Dawhenya, Methodist Junction, Tena, Ghana. +233559643898 +233268896068 +233260909144 Impact Language oversees a school of excellence and cultural diversity\n",
      "\n"
     ]
    }
   ],
   "source": [
    "query_oneline = query.replace(\"\\n\", \" \")\n",
    "\n",
    "# This prompt is where you can specify any guidance on tone, or what topics the model should stick to, or avoid.\n",
    "prompt = f\"\"\"You are a helpful and informative bot that answers questions using text from the reference passage included below. \n",
    "Be sure to respond in a complete sentence, being comprehensive, including all relevant background information. \n",
    "However, you are talking to a non-technical audience, so be sure to break down complicated concepts and \n",
    "strike a friendly and converstional tone. If the passage is irrelevant to the answer, you may ignore it.\n",
    "\n",
    "QUESTION: {query_oneline}\n",
    "\"\"\"\n",
    "\n",
    "# Add the retrieved documents to the prompt.\n",
    "for passage in all_passages:\n",
    "    passage_oneline = passage.replace(\"\\n\", \" \")\n",
    "    prompt += f\"PASSAGE: {passage_oneline}\\n\"\n",
    "\n",
    "print(prompt)"
   ]
  },
  {
   "cell_type": "code",
   "execution_count": 40,
   "id": "e67e9b4e",
   "metadata": {},
   "outputs": [
    {
     "data": {
      "text/markdown": [
       "According to the provided passage, Impact Language is located in Dawhenya, at the Methodist Junction in Tena, Ghana.\n"
      ],
      "text/plain": [
       "<IPython.core.display.Markdown object>"
      ]
     },
     "execution_count": 40,
     "metadata": {},
     "output_type": "execute_result"
    }
   ],
   "source": [
    "answer = client.models.generate_content(\n",
    "    model=\"gemini-2.0-flash\",\n",
    "    contents=prompt)\n",
    "\n",
    "Markdown(answer.text)"
   ]
  },
  {
   "cell_type": "code",
   "execution_count": null,
   "id": "0b5bcc8d",
   "metadata": {},
   "outputs": [],
   "source": [
    "def answer (query): \n",
    "    # Switch to query mode when generating embeddings.\n",
    "    embed_fn.document_mode = False\n",
    "\n",
    "\n",
    "    result = db.query(query_texts=[query], n_results=1)\n",
    "    [all_passages] = result[\"documents\"]\n",
    "\n",
    "    query_oneline = query.replace(\"\\n\", \" \")\n",
    "\n",
    "    # This prompt is where you can specify any guidance on tone, or what topics the model should stick to, or avoid.\n",
    "    prompt = f\"\"\"You are a helpful and informative bot that answers questions using text from the reference passage included below. \n",
    "    Be sure to respond in a complete sentence, being comprehensive, including all relevant background information. \n",
    "    However, you are talking to a non-technical audience, so be sure to break down complicated concepts and \n",
    "    strike a friendly and converstional tone. If the passage is irrelevant to the answer, just say \n",
    "    Concact ILM on their phone numbers are +233559643898, +233268896068, and +233260909144 for more directions.\n",
    "\n",
    "    QUESTION: {query_oneline}\n",
    "    \"\"\"\n",
    "\n",
    "    # Add the retrieved documents to the prompt.\n",
    "    for passage in all_passages:\n",
    "        passage_oneline = passage.replace(\"\\n\", \" \")\n",
    "        prompt += f\"PASSAGE: {passage_oneline}\\n\"\n",
    "\n",
    "    answer = client.models.generate_content(\n",
    "        model=\"gemini-2.0-flash\",\n",
    "        contents=prompt)\n",
    "\n",
    "    return Markdown(answer.text)"
   ]
  },
  {
   "cell_type": "code",
   "execution_count": 43,
   "id": "d84ecb18",
   "metadata": {},
   "outputs": [
    {
     "data": {
      "text/markdown": [
       "The address of Impact Language is Dawhenya, Methodist Junction, Tena, Ghana, and their phone numbers are +233559643898, +233268896068, and +233260909144.\n"
      ],
      "text/plain": [
       "<IPython.core.display.Markdown object>"
      ]
     },
     "execution_count": 43,
     "metadata": {},
     "output_type": "execute_result"
    }
   ],
   "source": [
    "# Search the Chroma DB using the specified query.\n",
    "query = \"what is your address and phone numbers?\"\n",
    "answer (query)"
   ]
  },
  {
   "cell_type": "code",
   "execution_count": 44,
   "id": "d4916850",
   "metadata": {},
   "outputs": [
    {
     "data": {
      "text/markdown": [
       "Impact Language is unique because it's a school with cultural diversity that is officially recognized by the Ghana Education Service (GES), as well as offering language courses in English, French, and Spanish.\n"
      ],
      "text/plain": [
       "<IPython.core.display.Markdown object>"
      ]
     },
     "execution_count": 44,
     "metadata": {},
     "output_type": "execute_result"
    }
   ],
   "source": [
    "# Search the Chroma DB using the specified query.\n",
    "query = \"what differentiate you with others schools?\"\n",
    "answer (query)"
   ]
  },
  {
   "cell_type": "code",
   "execution_count": 50,
   "id": "48025d4b",
   "metadata": {},
   "outputs": [
    {
     "data": {
      "text/markdown": [
       "I am sorry, the provided passage does not contain specific directions on how to get to ILM. Concact ILM on their phone numbers are +233559643898, +233268896068, and +233260909144 for more directions.\n"
      ],
      "text/plain": [
       "<IPython.core.display.Markdown object>"
      ]
     },
     "execution_count": 50,
     "metadata": {},
     "output_type": "execute_result"
    }
   ],
   "source": [
    "# Search the Chroma DB using the specified query.\n",
    "query = \"How to Get to ILM ?\"\n",
    "answer (query)"
   ]
  }
 ],
 "metadata": {
  "kernelspec": {
   "display_name": "rag",
   "language": "python",
   "name": "python3"
  },
  "language_info": {
   "codemirror_mode": {
    "name": "ipython",
    "version": 3
   },
   "file_extension": ".py",
   "mimetype": "text/x-python",
   "name": "python",
   "nbconvert_exporter": "python",
   "pygments_lexer": "ipython3",
   "version": "3.13.2"
  }
 },
 "nbformat": 4,
 "nbformat_minor": 5
}
